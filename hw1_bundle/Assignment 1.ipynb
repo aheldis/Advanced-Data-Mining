{
  "cells": [
    {
      "cell_type": "markdown",
      "source": [
        "**Name: Haniyeh Ehsani Oskouie**\n",
        "\n",
        "**Student Number: 306300374**"
      ],
      "metadata": {
        "id": "NLq7ESamWRjY"
      }
    },
    {
      "cell_type": "markdown",
      "metadata": {
        "id": "9tyzS0gdRtlN"
      },
      "source": [
        "# CS247 Advanced Data Mining - Assignment 1\n",
        "## Deadline: 11:59PM, January 24, 2023\n",
        "\n",
        "## Instructions\n",
        "Each assignment is structured as a Jupyter notebook, offering interactive tutorials that align with our lectures. You will encounter two types of problems: *write-up problems* and *coding problems*.\n",
        "\n",
        "1. **Write-up Problems:** These problems are primarily theoretical, requiring you to demonstrate your understanding of lecture concepts and to provide mathematical proofs for key theorems. Your answers should include sufficient steps for the mathematical derivations.\n",
        "2. **Coding Problems:** Here, you will be engaging with practical coding tasks. These may involve completing code segments provided in the notebooks or developing models from scratch.\n",
        "\n",
        "To ensure clarity and consistency in your submissions, please adhere to the following guidelines:\n",
        "\n",
        "* For write-up problems, use Markdown bullet points to format text answers. Also, express all mathematical equations using $\\LaTeX$ and avoid plain text such as `x0`, `x^1`, or `R x Q` for equations.\n",
        "* For coding problems, comment on your code thoroughly for readability and ensure your code is executable. Non-runnable code may lead to a loss of **all** points. Coding problems have automated grading, and altering the grading code will result in a deduction of **all** points.\n",
        "* Your submission should show the entire process of data loading, preprocessing, model implementation, training, and result analysis. This can be achieved through a mix of explanatory text cells, inline comments, intermediate result displays, and experimental visualizations.\n",
        "\n",
        "### Submission Requirements\n",
        "\n",
        "* Submit your solutions through GradeScope in BruinLearn.\n",
        "* Late submissions are allowed up to 24 hours post-deadline with a penalty factor of $\\mathbf{1}(t\\leq24)e^{-(\\ln(2)/12)t}$.\n",
        "\n",
        "### Collaboration and Integrity\n",
        "\n",
        "* Collaboration is encouraged, but all final submissions must be your own work. Please acknowledge any collaboration or external sources used, including websites, papers, and GitHub repositories.\n",
        "* Any suspicious cases of academic misconduct will be reported to The Office of the Dean of Students.\n",
        "\n",
        "## Outline\n",
        "* Problem 1: Naïve Bayes (50 points)\n",
        "* Problem 2: Logistic Regression (50 points)\n",
        "* Problem 3: Gaussian Mixture Models (70 points + 10 bonus points)"
      ]
    },
    {
      "cell_type": "markdown",
      "metadata": {
        "id": "G0wSrlzcRtlP"
      },
      "source": [
        "## Problem 1: Naïve Bayes (50 points) <a class=\"anchor\" id=\"problem-1\"></a>"
      ]
    },
    {
      "cell_type": "markdown",
      "metadata": {
        "id": "7HFzS5mKRtlQ"
      },
      "source": [
        "### Exercise 1.1: MLE Estimation of Model Parameters (10 points)\n",
        "\n",
        "Recall that given a corpus and labels for each document $D = \\{(\\boldsymbol{x}_d, y_d)\\}_{d=1}^{|D|}$, the log likelihood function of a Bayes model parameterized by $\\Theta = (\\boldsymbol\\beta_1, \\boldsymbol\\beta_2, \\boldsymbol\\beta_3, \\boldsymbol\\pi)$ is:\n",
        "$$\n",
        "\\begin{align}\n",
        "\\mathcal{L}(\\Theta) & = \\log \\prod_{d=1}^{|D|} p(\\boldsymbol{x}_d, y_d | \\Theta) \\\\\n",
        "& = \\sum_{d=1}^{|D|} \\log p(\\boldsymbol{x}_d, y_d | \\Theta) \\\\\n",
        "& = \\sum_{d=1}^{|D|} \\log [p(\\boldsymbol{x}_d | y_d, \\Theta) p(y_d | \\Theta)] \\\\\n",
        "& = \\sum_{d=1}^{|D|} \\left(\\sum_{n=1}^{N}x_{dn}\\log\\beta_{y_d,n} + \\log \\pi_{y_d}\\right).\n",
        "\\end{align}\n",
        "$$\n",
        "Show the MLE estimator of $\\boldsymbol\\beta$. Include necessary derivatives in your answer. (Hint: use Lagrange multipliers to enforce the constraint $\\sum_{n=1}^{N}\\beta_{j,n} = 1$ for all $j$.)"
      ]
    },
    {
      "cell_type": "markdown",
      "metadata": {
        "id": "so5bhVQvRtlQ"
      },
      "source": [
        "**Ans.**\n",
        "$$\n",
        "\\begin{align}\n",
        "\\mathcal{J}(\\beta) & = \\sum_{d=1}^{|D|} \\sum_{n=1}^{N}x_{dn}\\log\\beta_{y_d,n} + \\sum_{i} λ \\left(\\sum_{n=1}^{N} \\beta_{i,n} - 1 \\right)\n",
        "\\end{align}\n",
        "$$\n",
        "$$\n",
        "\\begin{align}\n",
        "max_{\\beta} \\mathcal{J} = max_{\\beta} \\sum_{d=1}^{|D|} \\sum_{n=1}^{N}x_{dn}\\log\\beta_{y_d,n} + \\sum_{i} λ \\left(\\sum_{n=1}^{N} \\beta_{i,n} - 1 \\right)\n",
        "\\end{align}\n",
        "$$\n",
        "In order to find the maximum we calculate the gradient and it should be equal to zero:\n",
        "$$\n",
        "\\begin{align}\n",
        "\\frac{\\partial \\mathcal{J}}{\\partial \\beta_{i,k}} = \\sum_{d = 1}^{|D|} \\frac{x_{dk} 1(y_d == i)}{\\beta_{i,k}} + λ.1 = 0\n",
        "\\end{align}\n",
        "$$\n",
        "Multiplied by $\\beta_{i,k}$:\n",
        "$$\n",
        "\\begin{align}\n",
        "\\sum_{d = 1}^{|D|} x_{dk} 1(y_d == i) + λ.\\beta_{i,k} = 0\n",
        "\\end{align}\n",
        "$$\n",
        "Summation over $k$:\n",
        "$$\n",
        "\\begin{align}\n",
        "\\sum_{k=1}^{N}\\sum_{d = 1}^{|D|} x_{dk} 1(y_d == i) + λ\\sum_{k=1}^{N}\\beta_{i,k} = \\\\\n",
        "\\sum_{k=1}^{N}\\sum_{d = 1}^{|D|} x_{dk} 1(y_d == i) + λ = 0\n",
        "\\end{align}\n",
        "$$\n",
        "$$\n",
        "\\begin{align}\n",
        "⇒λ = -\\sum_{k=1}^{N}\\sum_{d = 1}^{|D|} x_{dk} 1(y_d == i)\\\\\n",
        "⇒ \\beta_{i,k} = \\frac{\\sum_{d=1}^{|D|}x_{dk} 1(y_d == i)}{\\sum_{k=1}^{N}\\sum_{d=1}^{|D|}x_{dk} 1(y_d == i)}\n",
        "\\end{align}\n",
        "$$"
      ]
    },
    {
      "cell_type": "markdown",
      "metadata": {
        "id": "3mSDe3Y3RtlQ"
      },
      "source": [
        "### Execrise 1.2: Implementation of Naïve Bayes in scikit-learn (10 points)\n",
        "\n",
        "In this exercise, you will learn the basics of using scikit-learn to implement a Naïve Bayes classifier. We will use the [Sentiment Polarity Dataset Version 2.0](https://www.cs.cornell.edu/people/pabo/movie-review-data/) for this exercise. This dataset contains 1000 positive and 1000 negative reviews. We have provided the code for dataset preprocessing."
      ]
    },
    {
      "cell_type": "code",
      "execution_count": null,
      "metadata": {
        "id": "PDsOhTFkRtlQ"
      },
      "outputs": [],
      "source": [
        "# Download and load the dataset\n",
        "\n",
        "import nltk\n",
        "from sklearn.datasets import load_files\n",
        "\n",
        "nltk.download('movie_reviews', download_dir='.', quiet=True)\n",
        "reviews = load_files('./corpora/movie_reviews', shuffle=True)"
      ]
    },
    {
      "cell_type": "code",
      "execution_count": null,
      "metadata": {
        "colab": {
          "base_uri": "https://localhost:8080/"
        },
        "id": "lb8XOQ5ZRtlR",
        "outputId": "57c81ef3-ff62-4049-a247-58424ae18ac4"
      },
      "outputs": [
        {
          "output_type": "execute_result",
          "data": {
            "text/plain": [
              "['neg', 'pos']"
            ]
          },
          "metadata": {},
          "execution_count": 2
        }
      ],
      "source": [
        "# Sentiment analysis: `neg` for negative sentiment, `pos` for positive sentiment\n",
        "reviews.target_names"
      ]
    },
    {
      "cell_type": "code",
      "execution_count": null,
      "metadata": {
        "colab": {
          "base_uri": "https://localhost:8080/"
        },
        "id": "5FDIF-36RtlS",
        "outputId": "a2eb831e-9315-4526-c94f-7290b5b38833"
      },
      "outputs": [
        {
          "output_type": "execute_result",
          "data": {
            "text/plain": [
              "2000"
            ]
          },
          "metadata": {},
          "execution_count": 3
        }
      ],
      "source": [
        "# Number of reviews\n",
        "len(reviews.data)"
      ]
    },
    {
      "cell_type": "code",
      "execution_count": null,
      "metadata": {
        "id": "RWKDGnbkRtlS"
      },
      "outputs": [],
      "source": [
        "# Split the dataset into training and test sets\n",
        "\n",
        "from sklearn.model_selection import train_test_split\n",
        "reviews_train, reviews_test, y_train, y_test = train_test_split(\n",
        "    reviews.data, reviews.target, test_size=0.20, random_state=12)"
      ]
    },
    {
      "cell_type": "code",
      "execution_count": null,
      "metadata": {
        "id": "PCVAKif0RtlS"
      },
      "outputs": [],
      "source": [
        "# Dataset preprocessing: convert reviews to a matrix of token counts\n",
        "\n",
        "from sklearn.feature_extraction.text import CountVectorizer\n",
        "\n",
        "count_vect = CountVectorizer().fit(reviews.data)\n",
        "X_train = count_vect.transform(reviews_train).toarray()\n",
        "X_test = count_vect.transform(reviews_test).toarray()"
      ]
    },
    {
      "cell_type": "markdown",
      "metadata": {
        "id": "fgfa6nGqRtlS"
      },
      "source": [
        "#### Exercise 1.2.1 (8 points)\n",
        "Train the multinomial Naïve Bayes model on the training set and test it on the test set. Report the accuracy of the model on the test set.\n",
        "You would be able to achieve accuracy of around 80% on the test set.\n",
        "\n",
        "(Hint: Refer to the [scikit-learn documentation](https://scikit-learn.org/stable/modules/generated/sklearn.naive_bayes.MultinomialNB.html) for more details on how to use the `MultinomialNB` class.)"
      ]
    },
    {
      "cell_type": "code",
      "execution_count": null,
      "metadata": {
        "colab": {
          "base_uri": "https://localhost:8080/"
        },
        "id": "6KcZsO9PRtlT",
        "outputId": "891d9fe1-6553-4d83-8d23-f66804b53137"
      },
      "outputs": [
        {
          "output_type": "stream",
          "name": "stdout",
          "text": [
            "Accuracy: 0.8175\n"
          ]
        }
      ],
      "source": [
        "# Train and test with MultinomialNB\n",
        "\n",
        "import numpy as np\n",
        "from sklearn.naive_bayes import MultinomialNB\n",
        "\n",
        "clf = MultinomialNB()\n",
        "\n",
        "# TODO: Use the `MultinomialNB` class to train the model on the training set and test it on the test set\n",
        "# TODO: Report the accuracy of the model on the test set\n",
        "clf.fit(X_train, y_train)\n",
        "print(\"Accuracy:\", clf.score(X_test, y_test))"
      ]
    },
    {
      "cell_type": "markdown",
      "metadata": {
        "id": "V3lL4eY3RtlT"
      },
      "source": [
        "#### Exercise 1.2.2 (2 points)\n",
        "There are two functions of the Naïve Bayes classifier in order to get the probabilities of the predictions: `predict_proba` and `predict_log_proba`. What is the difference between them? What is the advantage of using `predict_log_proba` over `predict_proba`?\n",
        "\n",
        "(Hint: If you are unsure about this question, please proceed to Exercise 1.3.1 and come back to this question later.)"
      ]
    },
    {
      "cell_type": "markdown",
      "metadata": {
        "id": "cktGGMYWRtlT"
      },
      "source": [
        "**Ans.**\n",
        "\n",
        "In predict_proba we multiply the probabilities in order to get the resulting probability but in predict_log_proba we do summation over log probabilities to calculate the total log probability. For predict_proba because of consecutive multiplications of numbers between \\[0, 1\\] the resulting number will get very small and because of the calculation errors in the multiplications might become close to zero and imprecise. Moreover, doing summation is much faster than multiplication. Therefore, predict_log_proba is both more precise and faster."
      ]
    },
    {
      "cell_type": "markdown",
      "metadata": {
        "id": "jA9-byn_RtlT"
      },
      "source": [
        "### Exercise 1.3: Your Implementation of Naïve Bayes (30 points)\n",
        "\n",
        "In this exercise, you will implement a Naïve Bayes classifier by yourself and compare it with the scikit-learn implementation. You will use the same dataset as in Exercise 1.2.\n",
        "We have provided a code skeleton for your implementation."
      ]
    },
    {
      "cell_type": "markdown",
      "metadata": {
        "id": "of9k9RAbRtlT"
      },
      "source": [
        "#### Exercise 1.3.1 (24 points)\n",
        "Implement the `fit`, `predict_proba`, and `predict_log_proba` methods in the `NaiveBayes` class, according to what we have learned from lectures.\n",
        "Each implementation is worth 8 points.\n",
        "Please try to optimize for efficiency. Your code should run in seconds."
      ]
    },
    {
      "cell_type": "code",
      "execution_count": null,
      "metadata": {
        "id": "Dt2rOBIzRtlT"
      },
      "outputs": [],
      "source": [
        "class NaiveBayes(object):\n",
        "    \"\"\"\n",
        "    Your implementation of Naive Bayes classifier.\n",
        "    \"\"\"\n",
        "\n",
        "    def __init__(self, alpha=1.0):\n",
        "        \"\"\"\n",
        "        Initialize the Naive Bayes classifier.\n",
        "\n",
        "        Parameters\n",
        "        ----------\n",
        "        alpha : float, default=1.0\n",
        "            Additive (Laplace/Lidstone) smoothing parameter\n",
        "            (0 for no smoothing).\n",
        "        \"\"\"\n",
        "\n",
        "        self.alpha = alpha\n",
        "\n",
        "    def fit(self, X, y):\n",
        "        \"\"\"\n",
        "        Fit the Naive Bayes classifier on the training set (X, y).\n",
        "\n",
        "        Parameters\n",
        "        ----------\n",
        "        X : array-like, shape (n_samples, n_features)\n",
        "            Training vectors, where n_samples is the number of samples\n",
        "            and n_features is the number of features.\n",
        "        y : array-like, shape (n_samples,)\n",
        "            Target values.\n",
        "        \"\"\"\n",
        "\n",
        "        self.n_features = X.shape[1]\n",
        "        self.n_samples = X.shape[0]\n",
        "        self.n_classes = np.unique(y).shape[0]\n",
        "\n",
        "        self.beta = np.zeros((self.n_classes, self.n_features))\n",
        "        self.pi = np.zeros(self.n_classes)\n",
        "\n",
        "        # TODO: Given (X, y), compute the parameters `beta` and `pi`\n",
        "        # (Hint: Calculate `beta` according to the frequencies of words\n",
        "        #    and `pi` according to the class frequencies.\n",
        "        #    Remember to consider `alpha` for the Laplace smoothing.)\n",
        "        for i in range(self.n_classes):\n",
        "          for j in range(self.n_features):\n",
        "            for k in range(self.n_samples):\n",
        "              if y[k] == i:\n",
        "                self.beta[i, j] += X[k, j]\n",
        "            self.beta[i, j] += self.alpha\n",
        "          self.beta[i] /= np.sum(self.beta[i])\n",
        "\n",
        "          self.pi[i] = sum(y == i)/len(y)\n",
        "\n",
        "        self.log_beta = np.log(self.beta)\n",
        "        self.log_pi = np.log(self.pi)\n",
        "\n",
        "    def predict_proba(self, X):\n",
        "        \"\"\"\n",
        "        Return posterior probabilities of classification for X.\n",
        "\n",
        "        Parameters\n",
        "        ----------\n",
        "        X : array-like, shape (n_samples, n_features)\n",
        "            Test vectors, where n_samples is the number of samples\n",
        "            and n_features is the number of features.\n",
        "\n",
        "        Returns\n",
        "        -------\n",
        "        y_prob : array-like, shape (n_samples, n_classes)\n",
        "            Posterior probabilities of classification per class.\n",
        "        \"\"\"\n",
        "\n",
        "        # TODO: Given `X``, return the posterior probabilities of classification\n",
        "        # (Hint: Use `beta`` and `pi`. Remember to normalize the probabilities.)\n",
        "        y_prob = np.zeros((len(X), self.n_classes))\n",
        "        for i in range(len(X)):\n",
        "          for j in range(self.n_classes):\n",
        "           y_prob[i, j] = self.pi[j]\n",
        "           for k in range(self.n_features):\n",
        "            y_prob[i, j] *= self.beta[j, k] ** X[i, k]\n",
        "        return y_prob\n",
        "\n",
        "    def predict_log_proba(self, X):\n",
        "        \"\"\"\n",
        "        Return posterior log probabilities of classification for X.\n",
        "\n",
        "        Parameters\n",
        "        ----------\n",
        "        X : array-like, shape (n_samples, n_features)\n",
        "            Test vectors, where n_samples is the number of samples\n",
        "            and n_features is the number of features.\n",
        "\n",
        "        Returns\n",
        "        -------\n",
        "        y_log_prob : array-like, shape (n_samples, n_classes)\n",
        "            Posterior log probabilities of classification per class.\n",
        "        \"\"\"\n",
        "\n",
        "        # TODO: Given X, return the posterior log probabilities of classification\n",
        "        # (Hint: Use `log_beta`` and `log_pi`.)\n",
        "        y_log_prob = np.zeros((len(X), self.n_classes))\n",
        "        for i in range(len(X)):\n",
        "          for j in range(self.n_classes):\n",
        "           y_log_prob[i, j] = self.log_pi[j]\n",
        "           for k in range(self.n_features):\n",
        "            y_log_prob[i, j] += self.log_beta[j, k] * X[i, k]\n",
        "        return y_log_prob"
      ]
    },
    {
      "cell_type": "code",
      "execution_count": null,
      "metadata": {
        "id": "2AiJbRDCRtlT"
      },
      "outputs": [],
      "source": [
        "my_clf = NaiveBayes()\n",
        "my_clf.fit(X_train, y_train)\n",
        "\n",
        "# Sanity checks\n",
        "assert my_clf.n_features == X_train.shape[1]\n",
        "assert my_clf.n_samples == X_train.shape[0]\n",
        "assert my_clf.n_classes == np.unique(y_train).shape[0]\n",
        "assert my_clf.beta.shape == (my_clf.n_classes, my_clf.n_features)\n",
        "assert my_clf.pi.shape == (my_clf.n_classes,)\n",
        "assert np.isclose(my_clf.pi.sum(), 1)\n",
        "assert np.allclose(my_clf.beta.sum(axis=1), 1)"
      ]
    },
    {
      "cell_type": "markdown",
      "metadata": {
        "id": "ET-K3SJfRtlT"
      },
      "source": [
        "#### Exercise 1.3.2 (6 points)\n",
        "\n",
        "Compare the performance of your implementation with sklearn's implementation on the test set.\n",
        "Report the accuracy of both implementations on the test set.\n",
        "Ideally, you should be able to achieve accuracy of around 80% on the test set, similar to the scikit-learn implementation."
      ]
    },
    {
      "cell_type": "code",
      "execution_count": null,
      "metadata": {
        "colab": {
          "base_uri": "https://localhost:8080/"
        },
        "id": "EZo2Ab98RtlT",
        "outputId": "e78273db-1b91-4421-e3bc-d35c55c1e579"
      },
      "outputs": [
        {
          "output_type": "stream",
          "name": "stdout",
          "text": [
            "Accuracy: 0.8175\n"
          ]
        }
      ],
      "source": [
        "# TODO: Report the accuracy of your implementation on the test set\n",
        "acc = np.sum(np.argmax(my_clf.predict_log_proba(X_test), 1) == y_test) / len(y_test)\n",
        "print(\"Accuracy:\", acc)"
      ]
    },
    {
      "cell_type": "markdown",
      "metadata": {
        "id": "zalDeapIRtlU"
      },
      "source": [
        "## Problem 2: Logistic Regression (50 points)\n",
        "\n",
        "In this problem, we review the classification model known as logistic regression. This model is motivated from a probabilistic perspective, hence we start with this formulation. In the following, we assume that:\n",
        "- Data (boldfont, uppercase X) $\\mathbf{X} \\in \\mathbb{R}^{n\\times d}$, $n$ is the number of data points and $d$ the number of features.\n",
        "- $\\mathbf{x}_i$ is a single data point and $\\mathbf{x}_i \\in \\mathbb{R}^d$.\n",
        "- $\\mathbf{Y} \\in \\mathbb{R}^n$ are the labels of the data points, $Y_i$ is the label of $\\mathbf{x}_i$.\n",
        "- We denote (uppercase letter) $X,Y,Z$,... to be __random variables__, which are measurable maps from the sample space to the real line: $X: \\Omega \\rightarrow \\mathbb{R}$\n",
        "- We denote $P_X$ to be the __probability distribution__ associated with the random variable $X$.\n",
        "- We denote $f_X$ to be the __probability density function (pdf)__ associated with the random variable $X$, if it exists. If the random variable is discrete, then we also use $P_X$ to denote its __probability mass function (pmf)__."
      ]
    },
    {
      "cell_type": "markdown",
      "metadata": {
        "id": "fN7mESk0RtlU"
      },
      "source": [
        "### Exercise 2.1: Maximum Likelihood Formulation (12 points)\n",
        "\n",
        "Maximum Likelihood Estimation (MLE) is the most standard probabilistic learning framework. In this formulation, we:\n",
        "- Assume that __conditional distribution of label given data__, $P(\\mathbf{Y}\\mid\\mathbf{X})$, follows a parametric probabilistic distribution.\n",
        "- Assume that data pairs are sampled __independently and identically (i.i.d)__ from the distribution. This means $P_{Y\\mid X} := P(\\mathbf{Y}\\mid\\mathbf{X}) = \\prod_{i=1}^n P(\\mathbf{y}_i\\mid\\mathbf{x}_i)$.\n",
        "\n",
        "__As a technical note__, here $P$ is the probability distribution for the random variable $Y\\mid\\mathbf{X}$, not the _probability density function (pdf)_; however, for well-behaved distributions, such as those from the __exponential family__ (including Gaussian, Bernoulli, Poisson, Exponential, etc.), we can just use their pdfs in the case of independence. This means if i.i.d assumption holds, then the joint density function factorizes:\n",
        "$$\n",
        "f_{X}(x_1,x_2,\\cdots, x_n) = f_{X_1,X_2,\\cdots, X_n}(x_1,x_2,\\cdots, x_n) = \\prod_{i=1}^n f_{X_i}(x_i)\n",
        "$$\n",
        "\n",
        "__Example__: In the case of linear regression, we have that $P_{y_i\\mid\\mathbf{X}_i} \\sim \\mathcal{N}(y_i; W^\\top \\mathbf{X}_i + b_i, \\Sigma)$. In this case we have\n",
        "$$\n",
        "f_{Y\\mid X}(x_1, x_2, \\cdots, x_n, y_1, \\cdots, y_n) = \\prod_{i=1}^n f_{Y_i\\mid X_i}(x_i) = \\prod_{i=1}^n \\frac{1}{(2\\pi)^{d/2}|\\Sigma|^{1/2}}\\exp \\left\\{-\\frac{1}{2} (y_i - W^\\top \\mathbf{x}_i - b_i)^\\top \\Sigma^{-1} (y_i - W^\\top \\mathbf{x}_i-b_i) \\right\\}\n",
        "$$\n",
        "\n",
        "To perform a MLE inference, we need to obtain the __likelihood function__, which for exponential family distributions, can simply be written as the joint density function above, but now we change the notation since for likelihood function, __parameters of the distributions are treated as inputs__, e.g.:\n",
        "$$\n",
        "L(W, b, \\Sigma) = \\prod_{i=1}^n \\frac{1}{(2\\pi)^{d/2}|\\Sigma|^{1/2}}\\exp \\left\\{-\\frac{1}{2} (y_i - W^\\top \\mathbf{x}_i - b_i)^\\top \\Sigma^{-1} (y_i - W^\\top \\mathbf{x}_i-b_i) \\right\\}\n",
        "$$\n",
        "\n",
        "However, product term is tricky to deal with, we hence need __log-likelihood__ function. $l(W,b,\\Sigma) = \\log L(W,b,\\Sigma)$ to turn the product into summation. From their on, we can invoke any optimization algorthm (or do it by hand), to maximize the log-likelihood function.\n",
        "\n",
        "Now, the exercise is to write down the formulation of MLE for the following two classes of distributions."
      ]
    },
    {
      "cell_type": "markdown",
      "metadata": {
        "id": "a05ZFJtcRtlU"
      },
      "source": [
        "#### Exercise 2.1.1 (3 points)\n",
        "\n",
        "Write down the log-likelihood function for $n$ i.i.d random samples from the Bernoulli distribution, which has distribution function\n",
        "$$P_X(x_i;p) = p^{x_i}(1-p)^{(1-x_i)}$$\n",
        "where $p\\in [0,1]$ and $x_i \\in \\{0,1\\}$."
      ]
    },
    {
      "cell_type": "markdown",
      "metadata": {
        "id": "pNV7lIX1RtlU"
      },
      "source": [
        "**Ans.**\n",
        "$$\n",
        "L(p) = P_X(x_1, \\dots, x_n; p) = \\prod_i p^{x_i}(1 - p)^{1-x_i} = p^{\\sum_ix_i}(1-p)^{n - \\sum_i x_i}\\\\\n",
        "⇒ \\log(L(p)) = \\sum_i \\left(x_i \\log(p) + (1 - x_i) \\log(1 - p)\\right)\n",
        "$$"
      ]
    },
    {
      "cell_type": "markdown",
      "metadata": {
        "id": "1HsGhLgMRtlU"
      },
      "source": [
        "#### Exercise 2.1.2 (3 points)\n",
        "\n",
        "Write down the log-likelihood function for $n$ i.i.d random samples from the Poisson distribution, which has distribution function\n",
        "$$P_X(x_i; \\lambda) = \\frac{\\lambda^{x_i} e^{-\\lambda}}{{x_i}!}$$\n",
        "where $x_i \\in \\{1,2,\\cdots,\\}$.  "
      ]
    },
    {
      "cell_type": "markdown",
      "metadata": {
        "id": "39jW0Ni1RtlU"
      },
      "source": [
        "**Ans.**\n",
        "\n",
        "$$\n",
        "L(λ) = P_X(x_1, \\dots, x_n; λ) = \\prod_{i} \\frac{\\lambda^{x_i} e^{-\\lambda}}{x_i!} = \\frac{\\lambda^{\\sum_i x_i} e^{-\\lambda n}}{\\prod_i x_i!} \\\\\n",
        "⇒ log(L(\\lambda)) = log(\\lambda) \\sum_i x_i - \\lambda n - \\sum_i log(x_i!)\n",
        "$$\n"
      ]
    },
    {
      "cell_type": "markdown",
      "metadata": {
        "id": "l-cV1kexRtlU"
      },
      "source": [
        "#### Exercise 2.1.3 (3 points)\n",
        "\n",
        "Write down the __negative log-likelihood__ function for the logistic regression model applied to $n$ data points, where for each observed pair $(\\mathbf{x}_i, y_i)$, we assume that $P_{y_i\\mid X_i} \\sim \\text{Bernoulli}(\\sigma(W^\\top \\mathbf{x}_i))$.\n",
        "\n",
        "(Hint: Refer to Exercise 2.1.1 for the parametric form. Also you don't need to write down exact formula for the sigmoid function $\\sigma$.)"
      ]
    },
    {
      "cell_type": "markdown",
      "metadata": {
        "id": "NcYlBWknRtlU"
      },
      "source": [
        "**Ans.**\n",
        "$$\n",
        "\\log(L(\\sigma(W^\\top x_i))) = \\sum_i (y_i \\log(\\sigma(W^\\top x_i)) + (1 - y_i) \\log(1 - \\sigma(W^\\top x_i))) \\\\\n",
        "= \\sum_i y_i (\\log(\\sigma(W^\\top x_i)) - \\log(1 - \\sigma(W^\\top x_i))) + log(1 - \\sigma(W^\\top x_i)) \\\\\n",
        "= \\sum_i y_i (\\log(\\frac{1}{1+ e^{-W^\\top x_i}} * \\frac{1+ e^{-W^\\top x_i}}{e^{-W^\\top x_i}})) + log(1 - \\sigma(W^\\top x_i))\\\\\n",
        "= \\sum_i y_i (\\log(\\frac{1}{e^{-W^\\top x_i}})) + log(1 - \\sigma(W^\\top x_i)) \\\\\n",
        "= \\sum_i y_i W^\\top x_i + log(\\frac{1}{1 + e^{W^\\top x_i}}) \\\\\n",
        "= \\sum_i y_i W^\\top x_i + log(\\sigma(-W^\\top x_i)) \\\\\n",
        "$$\n",
        "Therefore, negative log-likelihood will be:\n",
        "$-\\sum_i y_i W^\\top x_i + log(\\sigma(-W^\\top x_i))$"
      ]
    },
    {
      "cell_type": "markdown",
      "metadata": {
        "id": "adq_a-odRtlU"
      },
      "source": [
        "#### Exercise 2.1.4 (3 points)\n",
        "\n",
        "Suppose you want to perform maximum likelihood inference for Gaussian, Poisson, and Bernoulli random variables. What would be the difference, in terms of optimization procedure, when you deal with these three random variables?\n",
        "\n",
        "(Hint: Think about the values the parameters of these distributions can take.)"
      ]
    },
    {
      "cell_type": "markdown",
      "metadata": {
        "id": "aOOgu6KoRtlU"
      },
      "source": [
        "**Ans.**\n",
        "They have different data ranges for y. For Bernoulli it is {0, 1}, for Poisson natural numbers and for Gaussian all numbers are valid. Therefore, the inference function should be different for each of them. For Bernoulli and Poisson we need to make the values of likelihood functions discrete but we don't need to do this for Gaussian random variables. However, the likelihood function for all of them is continuous. The difference is the range of real numbers each function can take. For bernoulli [0, 1], for poisson [0, $\\inf$), and for gaussian all of the real numbers."
      ]
    },
    {
      "cell_type": "markdown",
      "metadata": {
        "id": "YSS-IM0YRtlU"
      },
      "source": [
        "### Exercise 2.2: Implemention of Logistic Regression (38 points)"
      ]
    },
    {
      "cell_type": "code",
      "execution_count": null,
      "metadata": {
        "id": "bUzvMrUKRtlU"
      },
      "outputs": [],
      "source": [
        "# Dependencies\n",
        "import numpy as np\n",
        "import pandas as pd\n",
        "import scipy.optimize as opt\n",
        "import matplotlib.pyplot as plt\n",
        "\n",
        "from sklearn import metrics\n",
        "from scipy.stats import multivariate_normal\n",
        "from sklearn.mixture import GaussianMixture\n",
        "from sklearn.metrics import silhouette_score\n",
        "from sklearn.decomposition import PCA\n",
        "from sklearn.preprocessing import StandardScaler, normalize\n",
        "from sklearn.model_selection import train_test_split"
      ]
    },
    {
      "cell_type": "markdown",
      "metadata": {
        "id": "DarMb1nPRtlU"
      },
      "source": [
        "#### Exercise 2.2.1 (8 points)\n",
        "\n",
        "Analytically calculate the gradient of logistic regression negative log-likelihood with respect to parameter $W$. Show all of your steps."
      ]
    },
    {
      "cell_type": "markdown",
      "metadata": {
        "id": "E2fyDqrfRtlV"
      },
      "source": [
        "**Ans.**\n",
        "$$L(W) = -\\sum_i y_i W^\\top x_i + log(\\sigma(-W^\\top x_i)) = \\sum_i log(1 + e^{W^\\top x_i}) - \\sum_i y_i W^\\top x_i \\\\\n",
        "⇒ \\frac{∂L(W)}{∂W} = \\sum_i \\frac{x_i e^{W^⊤x_i}}{1 + e^{W^\\top x_i}} -  y_ix_i = \\sum_i x_i (\\sigma(W^\\top x_i) - y_i)$$"
      ]
    },
    {
      "cell_type": "markdown",
      "metadata": {
        "id": "SAL3BNXhRtlV"
      },
      "source": [
        "In the following exercises, we load a sample dataset, and then implement a logistic regression model by hand; in the end, we compare the prediction performance with a standard logistic regression model from the scikit-learn library."
      ]
    },
    {
      "cell_type": "code",
      "execution_count": null,
      "metadata": {
        "id": "yUSb30suRtlV",
        "colab": {
          "base_uri": "https://localhost:8080/"
        },
        "outputId": "455a2a4f-e7e2-43f7-844e-d0ef0d9caa92"
      },
      "outputs": [
        {
          "output_type": "stream",
          "name": "stdout",
          "text": [
            "(99, 2)\n",
            "(99, 1)\n"
          ]
        }
      ],
      "source": [
        "sample_data = pd.read_csv(\"sample_data.txt\", delimiter=\",\")\n",
        "n,d = sample_data.shape\n",
        "d -= 1\n",
        "sample_data.columns = [\"score_1\", \"score_2\", \"label\"]\n",
        "X = sample_data[[\"score_1\", \"score_2\"]].values\n",
        "y = sample_data[\"label\"].values.reshape(-1,1)\n",
        "print(X.shape)\n",
        "print(y.shape)"
      ]
    },
    {
      "cell_type": "code",
      "execution_count": null,
      "metadata": {
        "id": "dNedqI6NRtlV",
        "colab": {
          "base_uri": "https://localhost:8080/"
        },
        "outputId": "9f08b017-491a-4abd-d5a9-2dc27ef2f284"
      },
      "outputs": [
        {
          "output_type": "execute_result",
          "data": {
            "text/plain": [
              "(2, 1)"
            ]
          },
          "metadata": {},
          "execution_count": 401
        }
      ],
      "source": [
        "np.random.seed(1234)\n",
        "W_init = np.random.randn(d,1)\n",
        "W_init.shape"
      ]
    },
    {
      "cell_type": "markdown",
      "metadata": {
        "id": "iuxoth-VRtlV"
      },
      "source": [
        "#### Exercise 2.2.2 (10 points)\n",
        "Implement a logistic regression model by hand, by specifying the following functions:\n",
        "- `sigmoid(x)` which implements the sigmoid function\n",
        "- `cost_function(W, X, y)`, which returns the negative log-likelihood and the gradient with respect to parameter `W`\n",
        "\n",
        "(Hint: You may want to deal with numerical issues with `log` with something like `eps=1e-6`.)"
      ]
    },
    {
      "cell_type": "code",
      "execution_count": null,
      "metadata": {
        "id": "mHM2Ax7eRtlV"
      },
      "outputs": [],
      "source": [
        "from scipy.special import expit\n",
        "def sigmoid(x):\n",
        "    # TODO: Implement the sigmoid function\n",
        "    if x > 0:\n",
        "      return 1 / (1 + np.exp(-x))\n",
        "    else:\n",
        "      return np.exp(x) / (1 + np.exp(x))"
      ]
    },
    {
      "cell_type": "code",
      "execution_count": null,
      "metadata": {
        "id": "0LgeRBoeRtle"
      },
      "outputs": [],
      "source": [
        "# W: Model parameters of shape (d,1)\n",
        "# X: Input of shape (N,d)\n",
        "# y: Input of shape (N,1)\n",
        "# Returns: Negative-log-likelihood, gradient\n",
        "def cost_function(W, X, y):\n",
        "    # TODO: Implement the negative log-likelihood function and its gradient with respect to parameter `W`\n",
        "    neg_log_likelihood, gradient = 0, 0\n",
        "    for i in range(len(X)):\n",
        "      neg_log_likelihood -= y[i, 0] * np.dot(X[i], W)[0] + np.log(sigmoid(-np.dot(X[i], W)[0])+ 1e-6)\n",
        "      gradient += (sigmoid(np.dot(X[i], W)[0]) - y[i, 0]) * X[i]\n",
        "    gradient = gradient.reshape((gradient.shape[0], 1))\n",
        "    return neg_log_likelihood, gradient"
      ]
    },
    {
      "cell_type": "markdown",
      "metadata": {
        "id": "m1dYCM7FRtle"
      },
      "source": [
        "#### Exercise 2.2.3 (6 points)\n",
        "\n",
        "Implement gradient descent and use it to train the logistic regression model."
      ]
    },
    {
      "cell_type": "code",
      "execution_count": null,
      "metadata": {
        "id": "4N0sGHS6Rtle"
      },
      "outputs": [],
      "source": [
        "\"\"\"\n",
        "Gradient descent algorithm: update the parameter `W` at each iteration\n",
        "Returns:\n",
        "    - A `List` recording losses at each iteration\n",
        "    - The final optimal value of `W`\n",
        "\"\"\"\n",
        "def gradient_descent(X, y, W, learning_rate, n_iters):\n",
        "    # TODO: Implement the gradient descent algorithm\n",
        "    ls = []\n",
        "    Wp = W\n",
        "    for i in range(n_iters):\n",
        "      neg_log_likelihood, gradient = cost_function(Wp, X, y)\n",
        "      ls.append(neg_log_likelihood)\n",
        "      Wp -= learning_rate * gradient\n",
        "    neg_log_likelihood, gradient = cost_function(Wp, X, y)\n",
        "    ls.append(neg_log_likelihood)\n",
        "    return ls, Wp"
      ]
    },
    {
      "cell_type": "code",
      "source": [
        "from sklearn.model_selection import train_test_split\n",
        "normalized_X = (X - np.mean(X)) / np.std(X)\n",
        "X_train, X_test, y_train, y_test = train_test_split(normalized_X, y, test_size=0.20, random_state=12)"
      ],
      "metadata": {
        "id": "njDo9j9JSclS"
      },
      "execution_count": null,
      "outputs": []
    },
    {
      "cell_type": "code",
      "execution_count": null,
      "metadata": {
        "id": "juWj9_BaRtle"
      },
      "outputs": [],
      "source": [
        "# TODO: Run gradient descent and obtain the records alongside optimal `W`\n",
        "ls, W = gradient_descent(X_train, y_train, W_init, 0.001, 500)"
      ]
    },
    {
      "cell_type": "markdown",
      "metadata": {
        "id": "EKI8JbCzRtle"
      },
      "source": [
        "#### Exercise 2.2.4 (6 points)\n",
        "\n",
        "Plot the training curve (y-axis as the negative log-likelihood, and x-axis as training iterations), and experiment on different learning rates and `n_iters` to ensure convergence."
      ]
    },
    {
      "cell_type": "code",
      "execution_count": null,
      "metadata": {
        "id": "Ipyi3voERtle",
        "colab": {
          "base_uri": "https://localhost:8080/",
          "height": 430
        },
        "outputId": "9c661e08-e2c7-4ba5-836f-728515cead2a"
      },
      "outputs": [
        {
          "output_type": "display_data",
          "data": {
            "text/plain": [
              "<Figure size 640x480 with 1 Axes>"
            ],
            "image/png": "[encoded data removed]"
          },
          "metadata": {}
        }
      ],
      "source": [
        "# TODO: Use matplotlib to plot the losses and show convergence\n",
        "plt.plot(ls)\n",
        "plt.show()"
      ]
    },
    {
      "cell_type": "code",
      "source": [
        "def score(X, y, W):\n",
        "  labels = np.array([1 if sigmoid(np.dot(X[i], W)) > 0.5 else 0 for i in range(len(X))]).reshape(y.shape)\n",
        "  return np.sum(y == labels)/len(y)\n",
        "\n",
        "score(X_test, y_test, W)"
      ],
      "metadata": {
        "colab": {
          "base_uri": "https://localhost:8080/"
        },
        "id": "orGuzyPtTDhn",
        "outputId": "cfe7bf40-990e-4eb7-caf0-ebb7ae39e33e"
      },
      "execution_count": null,
      "outputs": [
        {
          "output_type": "execute_result",
          "data": {
            "text/plain": [
              "0.75"
            ]
          },
          "metadata": {},
          "execution_count": 404
        }
      ]
    },
    {
      "cell_type": "markdown",
      "metadata": {
        "id": "LWqGmD0MRtle"
      },
      "source": [
        "#### Exercise 2.2.5 (8 points)\n",
        "\n",
        "Use the `sklearn.linear_model.LogisticRegression` model to fit the given `X` and `y`, then report the optimum values obtained from this model and compare with the result from Exercise 2.2.3.\n",
        "Are the optimal value of parameters similar? If so, explain why. If not, explain what may cause the difference between your implementation and the one from sklearn."
      ]
    },
    {
      "cell_type": "code",
      "source": [
        "X_train, X_test, y_train, y_test = train_test_split(X, y, test_size=0.20, random_state=12)"
      ],
      "metadata": {
        "id": "LqCbbtW7U4Mt"
      },
      "execution_count": null,
      "outputs": []
    },
    {
      "cell_type": "code",
      "execution_count": null,
      "metadata": {
        "id": "U5f-0VZ5Rtle",
        "colab": {
          "base_uri": "https://localhost:8080/"
        },
        "outputId": "a5385fb8-ff12-4fa4-f376-03bd00c85525"
      },
      "outputs": [
        {
          "output_type": "execute_result",
          "data": {
            "text/plain": [
              "0.8"
            ]
          },
          "metadata": {},
          "execution_count": 395
        }
      ],
      "source": [
        "# TODO: scikit-learn logistic regression\n",
        "from sklearn.linear_model import LogisticRegression\n",
        "\n",
        "logistic_regression = LogisticRegression()\n",
        "logistic_regression.fit(X, y.reshape(y.shape[0]))\n",
        "logistic_regression.score(X_test, y_test)"
      ]
    },
    {
      "cell_type": "markdown",
      "metadata": {
        "id": "dE0HpxqeRtlf"
      },
      "source": [
        "**Ans.**\n",
        "\n",
        "In the sklearn documentation, it is mentioned that regularization has been used but in our code, we didn't use regularization. Also, different initializations, learning rates, and number of iterations may lead to different results (multiple decision boundaries may be valid for the training data). intercept variable can also affect the result."
      ]
    },
    {
      "cell_type": "markdown",
      "metadata": {
        "id": "BhmSYoFkRtlf"
      },
      "source": [
        "## Problem 3: Gaussian Mixture Model (70 points + 10 bonus points)\n",
        "\n",
        "In this problem, we will review a commonly used __latent variable model__ called Gaussian Mixture Model (GMM). In particular, we will focus on the property of learning this model, first from the perspective of MLE and then from the perspective of surrogate optimization, using what is known as the __Expectation Maximization (EM)__ algorithm."
      ]
    },
    {
      "cell_type": "markdown",
      "metadata": {
        "id": "u1Y10shFRtlf"
      },
      "source": [
        "### Exercise 3.1: Full Distribution of GMM (6 points)\n",
        "\n",
        "We know that for _generative modeling_, the dataset is assumed to be generated from some probabilistic distribution, and the goal of GMM is to estimate the underlying distribution of the dataset. Here the assumption is implicitly that the data is generated by a probability distribution smooth enough, such that we can estimate its probability density function (pdf). Hence the terminology for this task is known as __density estimation__. A straightforward application of density estimation is the task of __clustering__, e.g., determining the possible __modes__ of the probability density function (each cluster center can be seen as the mode of a pdf). Therefore, from this perspective, we can make the following observations about K-Means and GMM:\n",
        "\n",
        "- K-Means is an algorithm that targets the task of clustering specifically, while GMM is more powerful in that it deals with density estimation, and by this virtue it can also be used for clustering.\n",
        "- In the context of clustering, GMM assigns data points _softly_, that is, with some probability, to a cluster, whereas K-means provides _hard assignments_ of elements to clusters.\n",
        "\n",
        "Suppose that the dataset contains $n$ elements $\\{x_1, \\cdots, x_N\\}$ and we assume $k$ cluster centers (or distribution modes). Now we take a look at the generative modeling story that GMM is telling: as a latent variable model, each observed data point $\\mathbf{x}_i$ is associated with two random variables $Z_i, X_i$, such that $P_{X_i,Z_i} = P_{Z_i}P_{X_i\\mid Z_i}$ where:\n",
        "\n",
        "\n",
        "- $Z_i \\sim Cat(\\pi_1, \\cdots, \\pi_k)$, where $k$ represents $k$ pdf modes (clusters) and $\\sum_{j=1}^k \\pi_j = 1$; this random variable is quantifies the event \\{$\\mathbf{x}_i$ belongs to cluster $j$\\}, and $P(Z_j = i) = \\pi_i$.\n",
        "\n",
        "Now comes the trickier bit, where we specify a __conditional distribution__ $X_i\\mid Z_i=j$. This means __after observing that $\\mathbf{x}_i$ is in cluster $j$, what is the distribution of $x_i$?__. The GMM assumes this follows a Gaussian with mean and variance determined by the clsuter $j$:\n",
        "\n",
        "- $X_i\\mid Z_i = j \\sim \\mathcal{N}(\\mu_j, \\Sigma_j)$, where the index $j \\in \\{1,\\cdots, N\\}$ and index $j\\in\\{1,\\cdots, k\\}$. We can see that each random variable $X_i\\mid Z_i=j$ is distributed as a Gaussian, whose parameters are determined by the cluster it belongs to.\n",
        "\n",
        "The plate diagram for this _Probabilistic Graphical Model_ is given below, where the empty circle represents the latent variable (since we cannot observe the clusters a priori).\n",
        "\n",
        "![](bishop-gaussian-mixture.png)\n",
        "\n",
        "This plate diagram tells us that there are in total $2N$ random variables, two for each observed data point. It also allows us to write down the joint density function, where again we have the i.i.d assumption of each random variable pair $(X_i,Z_i)$ and we denote the full joint distribution as $P_{XZ}$ (and the full joint pdf as $f_{XZ}$) and the individual joint distribution to be $P_{X_iZ_i}$(and the individual joint pdf to be $f_{X_iZ_i}$):\n",
        "\n",
        "$$\n",
        "f_{X_iZ_i}(\\mathbf{\\mathbf{x}_i}, k) = P(Z_i = k) f_{X}(\\mathbf{x_i} \\mid \\mu_k, \\Sigma_k) = \\pi_k \\mathcal{N}(\\mathbf{x}_i; \\mu_k, \\Sigma_k)\n",
        "$$\n",
        "\n",
        "\n",
        "__Please strictly follow the notation used in this notebook, as your true understanding of the model should not change with a change of notation__!"
      ]
    },
    {
      "cell_type": "markdown",
      "metadata": {
        "id": "Q_mE1AP_Rtlf"
      },
      "source": [
        "#### Exercise 3.1.1 (3 points)\n",
        "\n",
        "Write down the full derivation of the joint density function $f_{XZ}$ from the formula above.\n",
        "\n",
        "(Hint: Write down the correct pdf for each random variable, then use the assumption of i.i.d to factorize it. Note that $\\mathbf{x}_i \\in \\mathbb{R}^d$.)"
      ]
    },
    {
      "cell_type": "markdown",
      "metadata": {
        "id": "9TduZajCRtlf"
      },
      "source": [
        "**Ans.**\n",
        "\n",
        "$$\n",
        "f_{XZ}((\\mathcal{x}_i, z_i)_1^N; \\theta) =^{iid} \\prod_i f_{X_iZ_i}(\\mathcal{x}_i, z_i;Θ) =  \\prod_i \\pi_{z_i} \\mathcal{N}(\\mathcal{x}_i; \\mu_{z_i}, \\Sigma_{z_i})\n",
        "$$\n"
      ]
    },
    {
      "cell_type": "markdown",
      "metadata": {
        "id": "_IzaiLSJRtlf"
      },
      "source": [
        "#### Exercise 3.1.2 (3 points)\n",
        "\n",
        "Write down the formula for the marginal joint pdf of $f_X$ using the result from Exercise 3.1.1, where $X$ is the collection of random variables $X_1,\\cdots, X_N$."
      ]
    },
    {
      "cell_type": "markdown",
      "metadata": {
        "id": "25OBEP2dRtlf"
      },
      "source": [
        "**Ans.**\n",
        "\n",
        "$$\n",
        "f_{X}(\\mathcal{x}) =^{iid} \\prod_{i} f_{X_i}(\\mathcal{x}_i) = \\prod_{i} \\sum_k f_{X_iZ_i}(\\mathcal{x}_i, k; \\theta) = \\prod_i \\sum_{k} \\pi_{k} \\mathcal{N}(\\mathcal{x}_i; \\mu_{k}, \\Sigma_{k})\n",
        "$$\n"
      ]
    },
    {
      "cell_type": "markdown",
      "metadata": {
        "id": "2KkqXPbFRtlf"
      },
      "source": [
        "### Exercise 3.2: MLE and EM algorithm for GMM (9 points + 10 bonus points)"
      ]
    },
    {
      "cell_type": "markdown",
      "metadata": {
        "id": "t36eWMyfRtlf"
      },
      "source": [
        "#### Exercise 3.2.1 (5 points)\n",
        "\n",
        "After obtaining the joint PDF, we now can derive the negative log-likelihood function of the joint pdf. write down the formula for the negative log-likelihood for random variable $X = (X_1,.\\cdots, X_N)$. Then answer the following: why is doing a vanilla MLE for GMM difficult?\n",
        "\n",
        "(Hint: It is okay to Google this, but you need to write down the analytical form of the negative log-likelihood and then say something about it.\n",
        "You may want to read Section 9.2.1 from Christopher Bishop's [_Pattern Recognition and Machine Leanrning_](https://www.microsoft.com/en-us/research/uploads/prod/2006/01/Bishop-Pattern-Recognition-and-Machine-Learning-2006.pdf).)"
      ]
    },
    {
      "cell_type": "markdown",
      "metadata": {
        "id": "xzrZ1g-iRtlf"
      },
      "source": [
        "**Ans.**\n",
        "\n",
        "$$\n",
        "-\\log f_{X}(\\mathcal{x}) =^{iid} -\\log  \\prod_i \\sum_{k} \\pi_{k} \\mathcal{N}(\\mathcal{x}_i; \\mu_{k}, \\Sigma_{k}) = -\\sum_i  \\log\\sum_{k} \\pi_{k} \\mathcal{N}(\\mathcal{x}_i; \\mu_{k}, \\Sigma_{k})\n",
        "$$\n",
        "\n",
        "We cannot use vanilla MLE for GMM because the EM algorithm for the maximum likelihood estimation of the parameters of GMMs is very sensitive to initialization and easily gets trapped in local maxima."
      ]
    },
    {
      "cell_type": "markdown",
      "metadata": {
        "id": "s68pc4vIRtlf"
      },
      "source": [
        "#### Exercise 3.2.2 (4 points)\n",
        "\n",
        "Write down the EM algorithm for GMM (i.e. write down the 4 steps)."
      ]
    },
    {
      "cell_type": "markdown",
      "metadata": {
        "id": "5kiuzQ6vRtlf"
      },
      "source": [
        "**Ans.**\n",
        "1. Initializing the model parameters.\n",
        "\n",
        "2. E-step: Computing the expected value of the latent variables given the observed data and the current parameter estimates.\n",
        "\n",
        "$$w_{ij}^{(t + 1)} = \\frac{\\pi_j^{(t)}N(x_i|\\mu_j^{(t)}, (σ_j^2)^{(t)})}{Σ_k \\pi_k^{(t)}N(x_i|\\mu_k^{(t)}, (σ_k^2)^{(t)})}$$\n",
        "\n",
        "3. M-step: Updating the model parameters by maximizing the expected complete data log-likelihood obtained in the E-step.\n",
        "\n",
        "$$\\mu_j^{(t + 1)} = \\frac{Σ_i w_{ij}^{(t+1)}x_i}{Σ_i w_{ij}^{(t+1)}}; (σ_j^2)^{(t+ 1)}=\\frac{Σ_iw_{ij}^{(t + 1)}(x_i - \\mu_j^{(t + 1)})^2}{Σ_i w_{ij}^{(t+1)}}; \\pi_j^{(t+1)}=\\frac{Σ_iw_{ij}^{(t + 1)}}{n}$$\n",
        "\n",
        "4. Repeating steps 2 and 3 until convergence (detected by a treshold)."
      ]
    },
    {
      "cell_type": "markdown",
      "metadata": {
        "id": "aXLde-OWRtlf"
      },
      "source": [
        "#### Exercise 3.2.3 (10 bonus points)\n",
        "Prove that the EM algorithm guarantees monotonic increase in the log-likelihood using the following theorem (or any version of it, by providing your source citation).\n",
        "\n",
        "__Theorem (Jensen's Inequality)__: If $f:\\mathbb{R}\\rightarrow \\mathbb{R}$ is a concave function, then for any $x_1,\\cdots, x_k$, and any $\\lambda_1,\\cdots, \\lambda_k \\geq 0$, and $\\sum_{i=1}^k \\lambda_k = 1$, the following inequality holds:\n",
        "$$\n",
        "\\sum_{j=1}^m \\lambda_j f(a_j) \\leq f\\left( \\sum_{j=1}^m \\lambda_j a_j \\right)\n",
        "$$\n",
        "\n",
        "__Hints__:\n",
        "- Is the logarithm function a concave function?\n",
        "- You may want to checkout the general case of EM algorithm monotonicity [here](https://www.cs.cmu.edu/~epxing/Class/10708-17/notes-17/10708-scribe-lecture8.pdf). Think about the special case of GMM."
      ]
    },
    {
      "cell_type": "markdown",
      "metadata": {
        "id": "eGRkcSv6Rtlf"
      },
      "source": [
        "**Ans.**\n",
        "$$\n",
        "l(\\theta^{(t + 1)}) = \\max_{\\pi, \\mu, Σ}\\sum_{i=1}^{m} w_{ij}^{(t+1)} \\log \\pi\n",
        "\\mathcal{N}(\\mathcal{x}_i; \\mu, \\Sigma) \\\\\n",
        "\\ge \\sum_{i=1}^{m} w_{ij}^{(t+1)} \\log \\pi^{(t)} \\mathcal{N}(\\mathcal{x}_i; \\mu^{(t)}, \\Sigma^{(t)}) \\\\\n",
        "\\ge \\sum_{i=1}^{m} w_{ij}^{(t)} \\log \\pi^{(t)} \\mathcal{N}(\\mathcal{x}_i; \\mu^{(t)}, \\Sigma^{(t)}) \\\\\n",
        "= l(\\theta^{(t)})\n",
        "$$"
      ]
    },
    {
      "cell_type": "markdown",
      "metadata": {
        "id": "feqdHpYJRtlf"
      },
      "source": [
        "### Exercise 3.3: EM vs. GD on Convergence (55 points)\n",
        "\n",
        "In this numerical experiment, we study and compare two cases:\n",
        "1. GMM trained using MLE, with gradient descent;\n",
        "2. GMM trained using EM algorithm.\n",
        "\n",
        "We compare these two scenarios' convergence behavior and their overall optimization performance. In particular, we:\n",
        "1. Provide randomzied initial values for the model parameters;\n",
        "2. (Exercise 3.3.1) Ask you to implement the objective / loss function, the negative-log-likelihood;\n",
        "3. (Exercise 3.3.2) Ask you to call optimization algorithm from sklearn to minimize this objective;\n",
        "4. (Exercise 3.3.3) Implement EM algorithm to optimize the objective;\n",
        "5. (Exercise 3.3.4) Observe the convergence behavior in Exercises 3.1.2 and 3.1.3."
      ]
    },
    {
      "cell_type": "markdown",
      "metadata": {
        "id": "aHqpmE_oRtlf"
      },
      "source": [
        "#### Exercise 3.3.1: GMM with MLE (10 points)\n",
        "\n",
        "In this case, we generate some random data, then ask you to implement the objective function (__log-likelihood__). In this case we use the positive, since EM algorithm is maximizing the log-likelihood, rather than minimizing the negative log-likelihood."
      ]
    },
    {
      "cell_type": "code",
      "execution_count": null,
      "metadata": {
        "id": "zO8VoxfTRtlf"
      },
      "outputs": [],
      "source": [
        "# Data generation\n",
        "np.random.seed(1234)\n",
        "def generate_MoG_data(num_data, means, covariances, weights):\n",
        "    \"\"\" Creates a list of data points \"\"\"\n",
        "    num_clusters = len(weights)\n",
        "    data = []\n",
        "    for i in range(num_data):\n",
        "        #  Use np.random.choice and weights to pick a cluster id greater than or equal to 0 and less than num_clusters\n",
        "        k = np.random.choice(len(weights), 1, p=weights)[0]\n",
        "\n",
        "        # Use np.random.multivariate_normal to create data from this cluster\n",
        "        x = np.random.multivariate_normal(means[k], covariances[k])\n",
        "\n",
        "        data.append(x)\n",
        "    return data\n",
        "\n",
        "# Model parameters\n",
        "init_means = [\n",
        "    [5, 0], # mean of cluster 1\n",
        "    [1, 1], # mean of cluster 2\n",
        "    [0, 5]  # mean of cluster 3b\n",
        "]\n",
        "init_covariances = [\n",
        "    [[.5, 0.], [0, .5]], # covariance of cluster 1\n",
        "    [[.92, .38], [.38, .91]], # covariance of cluster 2\n",
        "    [[.5, 0.], [0, .5]]  # covariance of cluster 3\n",
        "]\n",
        "init_weights = [1/4., 1/2., 1/4.]  # weights of each cluster\n",
        "\n",
        "# Generate data\n",
        "np.random.seed(4)\n",
        "data = generate_MoG_data(100, init_means, init_covariances, init_weights)\n",
        "data = np.vstack(data)"
      ]
    },
    {
      "cell_type": "code",
      "execution_count": null,
      "metadata": {
        "id": "g1dFiFGDRtlg",
        "colab": {
          "base_uri": "https://localhost:8080/",
          "height": 469
        },
        "outputId": "b02633dd-a376-48bd-ad25-821f7d569efb"
      },
      "outputs": [
        {
          "output_type": "display_data",
          "data": {
            "text/plain": [
              "<Figure size 640x480 with 1 Axes>"
            ],
            "image/png": "[encoded data removed]"
          },
          "metadata": {}
        }
      ],
      "source": [
        "# Visualize data\n",
        "plt.plot(data[:,0], data[:,1], 'ko')\n",
        "plt.rcParams.update({'font.size': 16})\n",
        "plt.tight_layout()"
      ]
    },
    {
      "cell_type": "code",
      "execution_count": null,
      "metadata": {
        "id": "cAtHv-PNRtlg"
      },
      "outputs": [],
      "source": [
        "# Initial setup for parameters: `pi`, `mu`, `Sigma` for GMM\n",
        "class Theta(object):\n",
        "    pi = np.empty((0,3))\n",
        "    mu = np.empty((0,3,2))\n",
        "    Sigma = np.empty((0,3,2,2))\n",
        "\n",
        "    def __init__(self, pi, mu, Sigma):\n",
        "        self.pi = pi\n",
        "        self.mu = mu\n",
        "        self.Sigma = Sigma\n",
        "\n",
        "theta_old = Theta(\n",
        "    pi=np.array([0.4, 0.3, 0.3]),\n",
        "    mu=np.array([\n",
        "        [0.0, 0.0],\n",
        "        [3.0, 1.0],\n",
        "        [4.0, 3.0]\n",
        "    ]),\n",
        "    Sigma=np.array([\n",
        "        [[1.0, 0.5],[0.5, 1.0]],\n",
        "        [[1.0, 0.5],[0.5, 1.0]],\n",
        "        [[1.0, 0.5],[0.5, 1.0]]\n",
        "    ])\n",
        ")"
      ]
    },
    {
      "cell_type": "code",
      "execution_count": null,
      "metadata": {
        "id": "cI4A1KUQRtlg"
      },
      "outputs": [],
      "source": [
        "# TODO: implement the objective function, negative log-likelihood, given theta and data x\n",
        "from torch.distributions.multivariate_normal import MultivariateNormal\n",
        "import torch\n",
        "\n",
        "def get_pi(epsilon):\n",
        "    return torch.exp(epsilon) / torch.sum(torch.exp(epsilon))\n",
        "\n",
        "def GMM_objective(mu, Sigma, epsilon, x=data):\n",
        "    \"\"\"\n",
        "    `theta`: theta class above\n",
        "    `x`: input data of shape (n,d)\n",
        "    Return the negative log-likelihood of GMM\n",
        "    \"\"\"\n",
        "    pi = get_pi(epsilon)\n",
        "    total_sum = 0\n",
        "    for i in range(len(x)):\n",
        "      inner_sum = 0\n",
        "      for k in range(mu.shape[0]):\n",
        "        normal = MultivariateNormal(mu[k], Sigma[k])\n",
        "        normal = torch.exp(normal.log_prob(torch.tensor(x[i])))\n",
        "        inner_sum += pi[k] * normal\n",
        "      total_sum += -torch.log(inner_sum)\n",
        "    return total_sum\n"
      ]
    },
    {
      "cell_type": "markdown",
      "metadata": {
        "id": "O4Q_-ByeRtlg"
      },
      "source": [
        "#### Exercise 3.3.2: Optimize the Objective Directly (15 points)\n",
        "\n",
        "In this case we ask you to implement a simple __gradient ascent__ algorithm to maximize the log-likelihood function implemented in Exercise 3.3.1.\n",
        "To do that, you need to implement the gradient of the objective, then update using the standard gradient ascent (not descent, since we are maximizing the objective)."
      ]
    },
    {
      "cell_type": "code",
      "execution_count": null,
      "metadata": {
        "id": "W1OXPOpkRtlg"
      },
      "outputs": [],
      "source": [
        "def GMM_objective_grad(mu, Sigma, epsilon, x=data):\n",
        "    # TODO: calculate and return the gradient of GMM objective w.r.t `pi`, `mu`, `Sigma`\n",
        "    y = GMM_objective(mu, Sigma, epsilon, x)\n",
        "    y.backward()\n",
        "    return mu.grad, Sigma.grad, epsilon.grad"
      ]
    },
    {
      "cell_type": "code",
      "execution_count": null,
      "metadata": {
        "id": "Ql5UHQO2Rtlg"
      },
      "outputs": [],
      "source": [
        "def GMM_gradient_ascent(theta, n_iters=500, x=data):\n",
        "    \"\"\"\n",
        "    TODO:\n",
        "    Call the above two functions to maximize the objective.\n",
        "    Return the updated parameters and the historical record of objective.\n",
        "    \"\"\"\n",
        "    objs = []\n",
        "    lr = 1e-7\n",
        "    theta.mu, theta.Sigma, epsilon = torch.tensor(theta.mu, requires_grad = True), torch.tensor(theta.Sigma, requires_grad = True), torch.tensor(theta.pi, requires_grad = True)\n",
        "    for i in range(n_iters):\n",
        "      objs.append(GMM_objective(theta.mu, theta.Sigma, epsilon, x))\n",
        "      mu_g, Sigma_g, epsilon_g = GMM_objective_grad(theta.mu, theta.Sigma, epsilon, x=data)\n",
        "      theta.mu.data -= lr * mu_g.data\n",
        "      theta.Sigma.data -= lr * Sigma_g.data\n",
        "      theta.Sigma.data = torch.where(theta.Sigma.data < 0.15, 0.15, theta.Sigma.data)\n",
        "      epsilon.data -= lr * epsilon_g.data\n",
        "    theta.pi = get_pi(epsilon)\n",
        "    objs.append(GMM_objective(theta.mu, theta.Sigma, epsilon, x))\n",
        "    return theta, objs"
      ]
    },
    {
      "cell_type": "markdown",
      "source": [
        "**Note that we need to make sure $\\Sigma$ is positive semi-definite and $\\pi$ is between zero and one. This is why I used $ϵ$ instead of $\\pi$ and then normalized it in order to get $\\pi$.**"
      ],
      "metadata": {
        "id": "Oi4WnbymOtNT"
      }
    },
    {
      "cell_type": "markdown",
      "metadata": {
        "id": "x-GTZEUvRtlg"
      },
      "source": [
        "#### Exercise 3.3.3: GMM with EM (20 points)\n",
        "\n",
        "The EM algorithm does not directly deal with the objective function, but instead work on a surrogate. This general line of approach of optimziation for probabilistic models is known as __variational inference__. Now implement the steps of EM algorithm for GMM. Then run the EM algorithm for 500 iterations to obtain the model parameters."
      ]
    },
    {
      "cell_type": "code",
      "execution_count": null,
      "metadata": {
        "id": "OJf5L65hRtlg"
      },
      "outputs": [],
      "source": [
        "from scipy.stats import multivariate_normal\n",
        "def E_step(theta, data):\n",
        "    \"\"\"\n",
        "    TODO: implement the E-step of the EM algorithm.\n",
        "    Return the updated `theta`.\n",
        "    \"\"\"\n",
        "    num_clusters = len(theta.mu)\n",
        "    weights = np.zeros((len(data), num_clusters))\n",
        "    for i in range(len(data)):\n",
        "      for j in range(num_clusters):\n",
        "        weights[i, j] = theta.pi[j] * multivariate_normal.pdf(data[i], mean=theta.mu[j], cov=theta.Sigma[j])\n",
        "      weights[i] /= np.sum(weights[i])\n",
        "    return weights"
      ]
    },
    {
      "cell_type": "code",
      "execution_count": null,
      "metadata": {
        "id": "6T2z9DPjRtlg"
      },
      "outputs": [],
      "source": [
        "def M_step(theta, data, weights):\n",
        "    \"\"\"\n",
        "    TODO: implement the M-step of the EM algorithm.\n",
        "    Return the updated `theta`.\n",
        "    \"\"\"\n",
        "    weight_sum = np.sum(weights, axis=0)\n",
        "    num_clusters = len(theta.mu)\n",
        "\n",
        "    for j in range(num_clusters):\n",
        "      theta.mu[j] = 0\n",
        "      theta.Sigma[j] = 0\n",
        "      for i in range(len(data)):\n",
        "        theta.mu[j] += weights[i,j] * data[i]\n",
        "      theta.mu[j] /= weight_sum[j]\n",
        "\n",
        "      for i in range(len(data)):\n",
        "        sub = (data[i] - theta.mu[j])\n",
        "        sub = sub.reshape((1, sub.shape[0]))\n",
        "        theta.Sigma[j] += weights[i,j] * np.dot(sub.T, sub)\n",
        "\n",
        "      theta.Sigma[j] /= weight_sum[j]\n",
        "      theta.pi[j] = weight_sum[j] / len(data)\n",
        "    return theta"
      ]
    },
    {
      "cell_type": "code",
      "execution_count": null,
      "metadata": {
        "id": "JIRNGKEyRtlg"
      },
      "outputs": [],
      "source": [
        "from scipy.stats import multivariate_normal\n",
        "\n",
        "\n",
        "def EM(theta, data, n_iter=500):\n",
        "    \"\"\"\n",
        "    TODO: implement the EM algorithm.\n",
        "    Be sure to call the above two functions `E_step` and `M_step`.\n",
        "    `theta` is the `Theta` class above; `data` is the `data` above.\n",
        "    Return the updated `theta` values and the historical record of objective.\n",
        "    \"\"\"\n",
        "    def GMM_objective(theta, x=data):\n",
        "      \"\"\"\n",
        "      `theta`: theta class above\n",
        "      `x`: input data of shape (n,d)\n",
        "      Return the negative log-likelihood of GMM\n",
        "      \"\"\"\n",
        "      total_sum = 0\n",
        "      for i in range(len(x)):\n",
        "        inner_sum = 0\n",
        "        for k in range(theta.mu.shape[0]):\n",
        "          normal = multivariate_normal.pdf(x[i], theta.mu[k], theta.Sigma[k])\n",
        "          inner_sum += theta.pi[k] * normal\n",
        "        total_sum += -np.log(inner_sum)\n",
        "      return total_sum\n",
        "\n",
        "    objs = []\n",
        "    for iter in range(n_iter):\n",
        "      objs.append(GMM_objective(theta, data))\n",
        "      weights = E_step(theta, data)\n",
        "      theta = M_step(theta, data, weights)\n",
        "    objs.append(GMM_objective(theta, data))\n",
        "    return theta, objs"
      ]
    },
    {
      "cell_type": "markdown",
      "metadata": {
        "id": "flw-WSiiRtlg"
      },
      "source": [
        "#### Exercise 3.3.4 (10 points)\n",
        "\n",
        "Based on the saved intermediate values of log-likelihood for the values above, plot and observe the behavior of log-likelihood in each case.\n",
        "Summarize your observations. This execrise is open-ended."
      ]
    },
    {
      "cell_type": "code",
      "source": [
        "# TODO: Plot the intermediate values of log-likelihood in each case\n",
        "theta, objs = GMM_gradient_ascent(theta_old)\n",
        "objs = [obj.detach().numpy() for obj in objs]\n",
        "plt.plot(objs, label=\"Gradient Ascent\");"
      ],
      "metadata": {
        "colab": {
          "base_uri": "https://localhost:8080/",
          "height": 440
        },
        "id": "F-Pi61DXo1aQ",
        "outputId": "e1e7d482-0d0f-40e4-dd95-51dc73c0c874"
      },
      "execution_count": null,
      "outputs": [
        {
          "output_type": "display_data",
          "data": {
            "text/plain": [
              "<Figure size 640x480 with 1 Axes>"
            ],
            "image/png": "[encoded data removed]"
          },
          "metadata": {}
        }
      ]
    },
    {
      "cell_type": "code",
      "source": [
        "theta_old = Theta(\n",
        "    pi=np.array([0.4, 0.3, 0.3]),\n",
        "    mu=np.array([\n",
        "        [0.0, 0.0],\n",
        "        [3.0, 1.0],\n",
        "        [4.0, 3.0]\n",
        "    ]),\n",
        "    Sigma=np.array([\n",
        "        [[1.0, 0.5],[0.5, 1.0]],\n",
        "        [[1.0, 0.5],[0.5, 1.0]],\n",
        "        [[1.0, 0.5],[0.5, 1.0]]\n",
        "    ])\n",
        ")\n",
        "\n",
        "theta, objs = EM(theta_old, data)\n",
        "plt.plot(objs, label=\"EM\");"
      ],
      "metadata": {
        "colab": {
          "base_uri": "https://localhost:8080/",
          "height": 440
        },
        "id": "raWaATiKVrb4",
        "outputId": "f15c3aea-a592-4ffd-cffc-2baa505a3a33"
      },
      "execution_count": null,
      "outputs": [
        {
          "output_type": "display_data",
          "data": {
            "text/plain": [
              "<Figure size 640x480 with 1 Axes>"
            ],
            "image/png": "[encoded data removed]"
          },
          "metadata": {}
        }
      ]
    },
    {
      "cell_type": "markdown",
      "metadata": {
        "id": "b47C-NTSRtlg"
      },
      "source": [
        "**Ans.**\n",
        "\n",
        "EM converges much faster and has better results than gradient ascent."
      ]
    }
  ],
  "metadata": {
    "kernelspec": {
      "display_name": "base",
      "language": "python",
      "name": "python3"
    },
    "language_info": {
      "codemirror_mode": {
        "name": "ipython",
        "version": 3
      },
      "file_extension": ".py",
      "mimetype": "text/x-python",
      "name": "python",
      "nbconvert_exporter": "python",
      "pygments_lexer": "ipython3",
      "version": "3.9.16"
    },
    "colab": {
      "provenance": []
    }
  },
  "nbformat": 4,
  "nbformat_minor": 0
}